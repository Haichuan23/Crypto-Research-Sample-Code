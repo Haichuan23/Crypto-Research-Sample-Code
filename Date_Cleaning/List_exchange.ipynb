{
 "cells": [
  {
   "cell_type": "markdown",
   "metadata": {},
   "source": [
    "### This code reads a csv file and returns which exchanges\n",
    "### have appeared in that file"
   ]
  },
  {
   "cell_type": "code",
   "execution_count": null,
   "metadata": {},
   "outputs": [],
   "source": [
    "import csv\n",
    "\n",
    "exchange_list = [] #holding a list of all exchange name in a file\n",
    "csv_list = [] # holding a list of csv names"
   ]
  },
  {
   "cell_type": "code",
   "execution_count": null,
   "metadata": {},
   "outputs": [],
   "source": [
    "#create the result file\n",
    "result = open(\"xxx_exchange_list.csv\", 'w')\n",
    "result_header = \"exchange_list\\n\"\n",
    "result.write(result_header)\n",
    "\n",
    "# loop through the file, find new exchange and add it to the result csv\n",
    "with open(\"/result_xxx.csv\", 'r') as infile:\n",
    "    reader = csv.reader(infile, delimiter = \",\")\n",
    "    header = next(reader)\n",
    "    rows = list(reader)\n",
    "    i = 0\n",
    "\n",
    "    for i in range(len(rows)):\n",
    "        row = rows[i]\n",
    "        symbol_id_split = row[0].split(\"_\") \n",
    "        exchange = symbol_id_split[0]\n",
    "\n",
    "        if (exchange in exchange_list):\n",
    "            pass\n",
    "        else:\n",
    "            line = exchange +\"\\n\"\n",
    "            result.write(line)\n",
    "            exchange_list.append(exchange)\n",
    "\n"
   ]
  }
 ],
 "metadata": {
  "kernelspec": {
   "display_name": "Python 3.7.6 ('base')",
   "language": "python",
   "name": "python3"
  },
  "language_info": {
   "name": "python",
   "version": "3.7.6"
  },
  "orig_nbformat": 4,
  "vscode": {
   "interpreter": {
    "hash": "f2a4012fca6975ccb4e2908886d96de946d5fe4261c9ff5ee375ddfd35668e36"
   }
  }
 },
 "nbformat": 4,
 "nbformat_minor": 2
}
