{
 "cells": [
  {
   "cell_type": "markdown",
   "metadata": {},
   "source": [
    "### Given a list of exchange names, break down a large csv files\n",
    "### according to exchanges"
   ]
  },
  {
   "cell_type": "code",
   "execution_count": null,
   "metadata": {},
   "outputs": [],
   "source": [
    "import csv\n",
    "# given a list of exchange names, break down a large csv file accoring to exchanges\n",
    "exchange_list = []"
   ]
  },
  {
   "cell_type": "code",
   "execution_count": null,
   "metadata": {},
   "outputs": [],
   "source": [
    "with open(\"xxx_exchange_list.csv\", 'r') as infile:\n",
    "    reader = csv.reader(infile, delimiter = \",\")\n",
    "    header = next(reader)\n",
    "    rows = list(reader)\n",
    "    i = 0\n",
    "   \n",
    "    for i in range(len(rows)):\n",
    "        exchange_list.append(rows[i])"
   ]
  },
  {
   "cell_type": "code",
   "execution_count": null,
   "metadata": {},
   "outputs": [],
   "source": [
    "with open(\"/result_xxx.csv\", 'r') as infile:\n",
    "    reader = csv.reader(infile, delimiter = \",\")\n",
    "    header = next(reader)\n",
    "    rows = list(reader)\n",
    "    i = 0\n",
    "\n",
    "    for i in range(len(rows)):\n",
    "        row = rows[i]\n",
    "        symbol_id_split = row[0].split(\"_\") \n",
    "        exchange = symbol_id_split[0]\n",
    "        symbol_id = row[0]\n",
    "        b = row[1]\n",
    "\n",
    "        line = \"{}, {}\\n\".format(symbol_id, b)\n",
    "            \n",
    "        file_name = \"result_\" + \"xxx\" + \"_\" + exchange + \".csv\"\n",
    "        file_location = \"cross_exchange_xxx/\" + file_name\n",
    "        file = open(file_location, 'a')\n",
    "        file.write(line)\n"
   ]
  }
 ],
 "metadata": {
  "kernelspec": {
   "display_name": "Python 3.7.6 ('base')",
   "language": "python",
   "name": "python3"
  },
  "language_info": {
   "name": "python",
   "version": "3.7.6"
  },
  "orig_nbformat": 4,
  "vscode": {
   "interpreter": {
    "hash": "f2a4012fca6975ccb4e2908886d96de946d5fe4261c9ff5ee375ddfd35668e36"
   }
  }
 },
 "nbformat": 4,
 "nbformat_minor": 2
}
