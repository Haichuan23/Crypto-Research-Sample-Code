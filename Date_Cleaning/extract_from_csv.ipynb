{
 "cells": [
  {
   "cell_type": "markdown",
   "metadata": {},
   "source": [
    "### This code is used to extract relevant information from a folder\n",
    "### cointaining csv files"
   ]
  },
  {
   "cell_type": "code",
   "execution_count": null,
   "metadata": {},
   "outputs": [],
   "source": [
    "import os\n",
    "import glob\n",
    "import gzip\n",
    "import csv"
   ]
  },
  {
   "cell_type": "code",
   "execution_count": null,
   "metadata": {},
   "outputs": [],
   "source": [
    "#specify the outfile and write the header into it\n",
    "#change the name of the output here\n",
    "outfile = open(\"\", 'w')\n",
    "result_header = '''\\n'''\n",
    "outfile.write(result_header)"
   ]
  },
  {
   "cell_type": "code",
   "execution_count": null,
   "metadata": {},
   "outputs": [],
   "source": [
    "# specify the root dir and put the path of sub-dir into\n",
    "# path_list\n",
    "path_list = []\n",
    "rootdir = ' ' # address of root directory\n",
    "for path in glob.glob(f'{rootdir}/*/'):\n",
    "    path_list.append(path)"
   ]
  },
  {
   "cell_type": "code",
   "execution_count": null,
   "metadata": {},
   "outputs": [],
   "source": [
    "\n",
    "j = 0\n",
    "for j in range(len(path_list)):\n",
    "    os.chdir(path_list[j])\n",
    "    curr_dir = os.getcwd()\n",
    "    #print(curr_dir)\n",
    "\n",
    "    if (len(os.listdir(curr_dir)) == 0):\n",
    "        # prevent against empty folder\n",
    "        print(curr_dir)\n",
    "        print(\"is empty\\n\")\n",
    "        pass\n",
    "\n",
    "    with gzip.open(\"xxx.csv.gz\", mode = 'rt') as f: # put file name here\n",
    "        reader = csv.reader(f)\n",
    "        header = next(reader)\n",
    "        rows = list(reader)\n",
    "        for i in range(len(rows)):\n",
    "            row = rows[i][0].split(\";\")\n",
    "\n",
    "            a = row[0]\n",
    "            b = row[1]\n",
    "            c = row[2]\n",
    "\n",
    "            #change the tick in interest here\n",
    "            if (\"xyz\" in row[0]):\n",
    "                line = \"{}, {}, {}\\n\".format(a, b, c)\n",
    "                outfile.write(line)\n",
    "outfile.close()\n"
   ]
  }
 ],
 "metadata": {
  "kernelspec": {
   "display_name": "Python 3.7.6 ('base')",
   "language": "python",
   "name": "python3"
  },
  "language_info": {
   "name": "python",
   "version": "3.7.6"
  },
  "orig_nbformat": 4,
  "vscode": {
   "interpreter": {
    "hash": "f2a4012fca6975ccb4e2908886d96de946d5fe4261c9ff5ee375ddfd35668e36"
   }
  }
 },
 "nbformat": 4,
 "nbformat_minor": 2
}
