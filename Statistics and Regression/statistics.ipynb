{
 "cells": [
  {
   "cell_type": "markdown",
   "metadata": {},
   "source": [
    "## This file contains ways to generate common descriptive statistics"
   ]
  },
  {
   "cell_type": "code",
   "execution_count": null,
   "metadata": {},
   "outputs": [],
   "source": [
    "import pandas as pd\n",
    "import pandas_datareader as pdr\n",
    "from sklearn.linear_model import LinearRegression\n",
    "from sklearn.metrics import r2_score\n",
    "from itertools import product\n",
    "from datetime import datetime\n",
    "from datetime import timedelta\n",
    "import datetime as dt\n",
    "from statistics import mean\n",
    "import statsmodels.api as sm\n",
    "import numpy as np\n",
    "import math\n",
    "import statistics\n",
    "import matplotlib.pyplot as plt\n",
    "import numpy as np\n",
    "from scipy import stats\n",
    "\n",
    "path = '/'"
   ]
  },
  {
   "cell_type": "markdown",
   "metadata": {},
   "source": [
    "## Construct Return Series from Price Series\n",
    "#### $r_t = log(p_{t+1}) - log(p_t)$"
   ]
  },
  {
   "cell_type": "code",
   "execution_count": null,
   "metadata": {},
   "outputs": [],
   "source": [
    "price_lst = []\n",
    "return_lst = []\n",
    "for k in range(1, len(price_lst)):\n",
    "    return_val = math.log(price_lst[k]) - math.log(price_lst[k-1])\n",
    "    return_lst.append(return_val)"
   ]
  },
  {
   "cell_type": "markdown",
   "metadata": {},
   "source": [
    "## Annualized Standard Deviation (Volatility)"
   ]
  },
  {
   "cell_type": "code",
   "execution_count": null,
   "metadata": {},
   "outputs": [],
   "source": [
    "num_trading_days = \n",
    "# Here assume the return list is daily return list\n",
    "sigma = statistics.stdev(return_lst) * math.sqrt(num_trading_days)"
   ]
  },
  {
   "cell_type": "markdown",
   "metadata": {},
   "source": [
    "## Skewness"
   ]
  },
  {
   "cell_type": "code",
   "execution_count": null,
   "metadata": {},
   "outputs": [],
   "source": [
    "return_lst_xxx = []\n",
    "def skewness(lst):\n",
    "    mean_lst = mean(lst)\n",
    "    pstdev = statistics.pstdev(lst)\n",
    "    numerator = 0\n",
    "    for j in range(len(lst)):\n",
    "        numerator += ((lst[j] - mean_lst) ** 3)\n",
    "    denominator = (len(lst) * (pstdev ** 3))\n",
    "    return numerator/denominator\n",
    "\n",
    "skewness_xxx = skewness(return_lst_xxx)"
   ]
  },
  {
   "cell_type": "markdown",
   "metadata": {},
   "source": [
    "## Kurtosis\n",
    "#### (A normal distribution has a kurtosis of 3. )"
   ]
  },
  {
   "cell_type": "code",
   "execution_count": null,
   "metadata": {},
   "outputs": [],
   "source": [
    "def kurtosis(lst):\n",
    "    mean_lst = mean(lst)\n",
    "    pstdev = statistics.pstdev(lst)\n",
    "    numerator = 0\n",
    "    denominator = 0\n",
    "    for j in range(len(lst)):\n",
    "        numerator += ((lst[j] - mean_lst) ** 4)\n",
    "    denominator = (len(lst) * (pstdev ** 4))\n",
    "    return numerator/denominator\n",
    "kurtosis_xxx = kurtosis(return_lst_xxx)"
   ]
  }
 ],
 "metadata": {
  "kernelspec": {
   "display_name": "Python 3.7.6 ('base')",
   "language": "python",
   "name": "python3"
  },
  "language_info": {
   "name": "python",
   "version": "3.7.6"
  },
  "orig_nbformat": 4,
  "vscode": {
   "interpreter": {
    "hash": "f2a4012fca6975ccb4e2908886d96de946d5fe4261c9ff5ee375ddfd35668e36"
   }
  }
 },
 "nbformat": 4,
 "nbformat_minor": 2
}
