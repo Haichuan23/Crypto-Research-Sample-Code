{
 "cells": [
  {
   "cell_type": "markdown",
   "metadata": {},
   "source": [
    "## This file contains ways to implement standard regression methods"
   ]
  },
  {
   "cell_type": "code",
   "execution_count": 2,
   "metadata": {},
   "outputs": [],
   "source": [
    "import pandas as pd\n",
    "import pandas_datareader as pdr\n",
    "from sklearn.linear_model import LinearRegression\n",
    "from sklearn.metrics import r2_score\n",
    "from itertools import product\n",
    "from datetime import datetime\n",
    "from datetime import timedelta\n",
    "import datetime as dt\n",
    "from statistics import mean\n",
    "import statsmodels.api as sm\n",
    "import numpy as np\n",
    "import math\n",
    "import statistics\n",
    "import matplotlib.pyplot as plt\n",
    "import numpy as np\n",
    "from scipy import stats\n",
    "\n",
    "path = '/'"
   ]
  },
  {
   "cell_type": "markdown",
   "metadata": {},
   "source": [
    "#### Autoregression"
   ]
  },
  {
   "cell_type": "code",
   "execution_count": null,
   "metadata": {},
   "outputs": [],
   "source": [
    "xxx_return_series = pd.Series(return_lst_xxx)\n",
    "dataframe_xxx = pd.concat([xxx_return_series.shift(3), xxx_return_series.shift(2), xxx_return_series.shift(1), xxx_return_series], axis = 1)\n",
    "dataframe_xxx.columns = ['t', 't+1', 't+2', 't+3']\n",
    "result = dataframe_xxx.corr()\n",
    "print(result)"
   ]
  },
  {
   "cell_type": "markdown",
   "metadata": {},
   "source": [
    "#### Granger Causality Test"
   ]
  },
  {
   "cell_type": "code",
   "execution_count": null,
   "metadata": {},
   "outputs": [],
   "source": [
    "from statsmodels.tsa.stattools import grangercausalitytests\n",
    "\n",
    "### The hypothesis is time series b granger causes time series a here\n",
    "return_lst_a = []\n",
    "return_lst_b = []\n",
    "\n",
    "forecast_df = pd.DataFrame(columns = ['return_lst_a', 'return_lst_b'], data=zip(return_lst_a, return_lst_b))\n",
    "gc_xxx = grangercausalitytests(forecast_df, 3) ### number of lags"
   ]
  },
  {
   "cell_type": "markdown",
   "metadata": {},
   "source": [
    "#### Linear Regression with intercept"
   ]
  },
  {
   "cell_type": "code",
   "execution_count": null,
   "metadata": {},
   "outputs": [],
   "source": [
    "df_regression_intercept = pd.DataFrame(columns=['date','intercept','coef','r2','0.025_i','0.975_i','0.025','0.975'])\n",
    "xc = sm.add_constant(x)\n",
    "if weight == True:\n",
    "    model = sm.WLS(y,xc, df['COLLATERAL_EOD_x']) # weighted by Collateral\n",
    "else:\n",
    "    model = sm.OLS(y,xc)\n",
    "    \n",
    "results = model.fit()\n",
    "df_temp_intercept = pd.DataFrame({'date': [list_date_x[-1]],\n",
    "                                    'intercept': [results.params[0]],\n",
    "                                    'coef': [results.params[1]],\n",
    "                                    'r2': [results.rsquared],\n",
    "                                    '0.025_i':[results.conf_int(alpha=0.05)[0][0]],\n",
    "                                    '0.975_i':[results.conf_int(alpha=0.05)[1][0]],\n",
    "                                    '0.025':[results.conf_int(alpha=0.05)[0][1]],\n",
    "                                    '0.975':[results.conf_int(alpha=0.05)[1][1]]})"
   ]
  },
  {
   "cell_type": "markdown",
   "metadata": {},
   "source": [
    "#### Linear Regression with No Intercept"
   ]
  },
  {
   "cell_type": "code",
   "execution_count": null,
   "metadata": {},
   "outputs": [],
   "source": [
    "df_regression_no_intercept = pd.DataFrame(columns=['date','intercept','coef','r2','0.025','0.975'])\n",
    "\n",
    "if weight == True:\n",
    "    model = sm.WLS(y,x, df_x_y['COLLATERAL_EOD_x'])\n",
    "else:\n",
    "    model = sm.OLS(y,x)\n",
    "    \n",
    "results = model.fit()\n",
    "df_temp_no_intercept = pd.DataFrame({'date': [list_date_x[-1]],\n",
    "                                    'intercept': [0],\n",
    "                                    'coef': [results.params[0]],\n",
    "                                    'r2': [results.rsquared],\n",
    "                                    '0.025':[results.conf_int(alpha=0.05)[0][0]],\n",
    "                                    '0.975':[results.conf_int(alpha=0.05)[1][0]]})"
   ]
  }
 ],
 "metadata": {
  "kernelspec": {
   "display_name": "Python 3.7.6 ('base')",
   "language": "python",
   "name": "python3"
  },
  "language_info": {
   "codemirror_mode": {
    "name": "ipython",
    "version": 3
   },
   "file_extension": ".py",
   "mimetype": "text/x-python",
   "name": "python",
   "nbconvert_exporter": "python",
   "pygments_lexer": "ipython3",
   "version": "3.7.6"
  },
  "orig_nbformat": 4,
  "vscode": {
   "interpreter": {
    "hash": "f2a4012fca6975ccb4e2908886d96de946d5fe4261c9ff5ee375ddfd35668e36"
   }
  }
 },
 "nbformat": 4,
 "nbformat_minor": 2
}
