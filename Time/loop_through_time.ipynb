{
 "cells": [
  {
   "cell_type": "markdown",
   "metadata": {},
   "source": [
    "### Loop through time in a dataset, help convert the original dataset\n",
    "### into monthly/daily/hourly/minute/second level data"
   ]
  },
  {
   "cell_type": "code",
   "execution_count": null,
   "metadata": {},
   "outputs": [],
   "source": [
    "import pandas as pd\n",
    "import pandas_datareader as pdr\n",
    "from sklearn.linear_model import LinearRegression\n",
    "from sklearn.metrics import r2_score\n",
    "from itertools import product\n",
    "from datetime import datetime\n",
    "from datetime import timedelta\n",
    "import datetime as dt\n",
    "from statistics import mean\n",
    "import statsmodels.api as sm\n",
    "import numpy as np\n",
    "import math\n",
    "import statistics\n",
    "import matplotlib.pyplot as plt\n",
    "import numpy as np\n",
    "from scipy import stats\n",
    "\n",
    "path = '/'"
   ]
  },
  {
   "cell_type": "code",
   "execution_count": null,
   "metadata": {},
   "outputs": [],
   "source": [
    "start_time = datetime(year = 2022, month = 7, day = 29, hour = 22, minute = 44, second = 0)\n",
    "num_min = 100\n",
    "df_xxx = pd.read_csv(\"xxx.csv\")"
   ]
  },
  {
   "cell_type": "code",
   "execution_count": null,
   "metadata": {},
   "outputs": [],
   "source": [
    "price_lst = []\n",
    "for i in range(num_min):\n",
    "    curr_min = start_time + timedelta(minutes = i)\n",
    "    next_min = curr_min + timedelta(minutes = 1)\n",
    "    mask = (df_xxx['timestamp'] >= curr_min) & (df_xxx['timestamp'] < next_min)\n",
    "    df_slice = df_xxx.loc[mask]\n",
    "    if df_slice.empty:\n",
    "        # deal with an empty time range\n",
    "        # Default method is to fill in the data from the last time range\n",
    "        price_lst.append(price_lst[-1])\n",
    "        continue\n",
    "    avg_price = df_slice['price'].mean()\n",
    "    price_lst.append(avg_price)"
   ]
  }
 ],
 "metadata": {
  "kernelspec": {
   "display_name": "Python 3.7.6 ('base')",
   "language": "python",
   "name": "python3"
  },
  "language_info": {
   "name": "python",
   "version": "3.7.6"
  },
  "orig_nbformat": 4,
  "vscode": {
   "interpreter": {
    "hash": "f2a4012fca6975ccb4e2908886d96de946d5fe4261c9ff5ee375ddfd35668e36"
   }
  }
 },
 "nbformat": 4,
 "nbformat_minor": 2
}
