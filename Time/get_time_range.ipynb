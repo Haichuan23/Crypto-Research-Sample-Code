{
 "cells": [
  {
   "cell_type": "markdown",
   "metadata": {},
   "source": [
    "### Truncate a large csv file and get the desired time range"
   ]
  },
  {
   "cell_type": "code",
   "execution_count": null,
   "metadata": {},
   "outputs": [],
   "source": [
    "import pandas as pd\n",
    "import pandas_datareader as pdr\n",
    "from sklearn.linear_model import LinearRegression\n",
    "from sklearn.metrics import r2_score\n",
    "from itertools import product\n",
    "from datetime import datetime\n",
    "from datetime import timedelta\n",
    "import datetime as dt\n",
    "from statistics import mean\n",
    "import statsmodels.api as sm\n",
    "import numpy as np\n",
    "import math\n",
    "import statistics\n",
    "import matplotlib.pyplot as plt\n",
    "import numpy as np\n",
    "from scipy import stats\n",
    "\n",
    "path = '/'"
   ]
  },
  {
   "cell_type": "code",
   "execution_count": null,
   "metadata": {},
   "outputs": [],
   "source": [
    "df_xxx = pd.read_csv('xxx.csv')"
   ]
  },
  {
   "cell_type": "code",
   "execution_count": null,
   "metadata": {},
   "outputs": [],
   "source": [
    "start_time = datetime(year = 2022, month = 7, day = 29, hour = 22, minute = 44, second = 0)\n",
    "end_time = datetime(year = 2022, month = 9, day = 16, hour = 7, minute = 3, second = 0)\n",
    "\n",
    "mask_xxx = (df_xxx['timestamp'] >= start_time) & (df_xxx['timestamp'] < end_time)\n",
    "df_xxx = df_xxx.loc[mask_xxx]\n"
   ]
  }
 ],
 "metadata": {
  "kernelspec": {
   "display_name": "Python 3.7.6 ('base')",
   "language": "python",
   "name": "python3"
  },
  "language_info": {
   "name": "python",
   "version": "3.7.6"
  },
  "orig_nbformat": 4,
  "vscode": {
   "interpreter": {
    "hash": "f2a4012fca6975ccb4e2908886d96de946d5fe4261c9ff5ee375ddfd35668e36"
   }
  }
 },
 "nbformat": 4,
 "nbformat_minor": 2
}
